{
    "metadata": {
        "kernelspec": {
            "name": "python3",
            "display_name": "Python 3 (ipykernel)",
            "language": "python"
        }
    },
    "nbformat": 4,
    "nbformat_minor": 2,
    "cells": [
        {
            "attachments": {},
            "cell_type": "markdown",
            "metadata": {},
            "source": [
                "This code is an introduction to supervised learning solving a classification problem using **decision trees**.\n",
                "It follows [this tutorial](https://youtu.be/7eh4d6sabA0). "
            ]
        },
        {
            "attachments": {},
            "cell_type": "markdown",
            "metadata": {},
            "source": [
                "# **Classification Problem**\n",
                "We will follow these steps of solving a machine learning problem.\n",
                "\n",
                "\n",
                "1. Import the Data\n",
                "2. Clean the Data\n",
                "3. split the Data into Training/ Test steps\n",
                "4. Create a Model\n",
                "5. Train the Model\n",
                "6. Make Predictions\n",
                "7. Evaluate and improve\n",
                ""
            ]
        },
        {
            "attachments": {},
            "cell_type": "markdown",
            "metadata": {},
            "source": [
                "# Problem description\n",
                "Enter in the text cell below what you will be predicting in this classification problem (y) and which columns will be used in the prediction (X)"
            ]
        },
        {
            "attachments": {},
            "cell_type": "markdown",
            "metadata": {},
            "source": [
                ""
            ]
        },
        {
            "cell_type": "code",
            "execution_count": 11,
            "metadata": {},
            "outputs": [],
            "source": [
                "import pandas as pd\n",
                "from sklearn.tree import DecisionTreeClassifier\n",
                "from sklearn.model_selection import train_test_split\n",
                "from sklearn.metrics import accuracy_score\n",
                "import joblib\n",
                "from sklearn import tree"
            ]
        },
        {
            "attachments": {},
            "cell_type": "markdown",
            "metadata": {},
            "source": [
                "1. Import the Data."
            ]
        },
        {
            "cell_type": "code",
            "execution_count": 12,
            "metadata": {},
            "outputs": [],
            "source": [
                "df = pd.read_csv('cleanedfile.csv')"
            ]
        },
        {
            "attachments": {},
            "cell_type": "markdown",
            "metadata": {},
            "source": [
                "2. Display columns and describe the data set"
            ]
        },
        {
            "cell_type": "code",
            "execution_count": 13,
            "metadata": {},
            "outputs": [],
            "source": [
                "df.info()"
            ]
        },
        {
            "cell_type": "code",
            "execution_count": 14,
            "metadata": {},
            "outputs": [],
            "source": [
                "df.describe()"
            ]
        },
        {
            "attachments": {},
            "cell_type": "markdown",
            "metadata": {},
            "source": [
                "3. Prepare Data"
            ]
        },
        {
            "cell_type": "code",
            "execution_count": 15,
            "metadata": {},
            "outputs": [],
            "source": [
                "# Run this section to inspect X\n",
                "X = df.drop(columns = ['None_Symptom'])\n",
                "X"
            ]
        },
        {
            "cell_type": "code",
            "execution_count": 0,
            "metadata": {},
            "outputs": [],
            "source": [
                "# Uncomment this section to inpect y\n",
                "y = df['None_Symptom']\n",
                "y"
            ]
        },
        {
            "attachments": {},
            "cell_type": "markdown",
            "metadata": {},
            "source": [
                "4. Calculate accuracy"
            ]
        },
        {
            "cell_type": "code",
            "execution_count": 5,
            "metadata": {},
            "outputs": [],
            "source": [
                "# Train 80% of the data set and use the rest to test\n",
                "X_train, X_test, y_train, y_test = train_test_split(\n",
                "                                    X, y, test_size=0.2)\n",
                "\n",
                "model = DecisionTreeClassifier()\n",
                "model.fit(X_train, y_train)\n",
                "predictions = model.predict(X_test)\n",
                "\n",
                "# Compute model accuracy\n",
                "score = accuracy_score(y_test, predictions)\n",
                "score"
            ]
        },
        {
            "attachments": {},
            "cell_type": "markdown",
            "metadata": {},
            "source": [
                "5. Persisting Models"
            ]
        },
        {
            "cell_type": "code",
            "execution_count": 6,
            "metadata": {},
            "outputs": [],
            "source": [
                "# Save the model to file\n",
                "joblib.dump(model, 'MODELNAME.joblib')\n",
                ""
            ]
        },
        {
            "attachments": {},
            "cell_type": "markdown",
            "metadata": {},
            "source": [
                "5.b. Import the model and make predictions"
            ]
        },
        {
            "cell_type": "code",
            "execution_count": 7,
            "metadata": {},
            "outputs": [],
            "source": [
                "# Load saved model. Make sure that you have run the previous\n",
                "# section at least once, and that the file exists.\n",
                "\n",
                "model = joblib.load('MODELNAME.joblib')\n",
                "predictions = model.predict(X_test)\n",
                "predictions"
            ]
        },
        {
            "attachments": {},
            "cell_type": "markdown",
            "metadata": {},
            "source": [
                "6. (Optional) Visualize decision trees"
            ]
        },
        {
            "cell_type": "code",
            "execution_count": 8,
            "metadata": {},
            "outputs": [],
            "source": [
                "tree.export_graphviz(model, out_file = 'MODELNAME.dot',\n",
                "                    feature_names = X.columns, \n",
                "                    class_names = str(sorted(y.unique())), \n",
                "                    label = 'all',\n",
                "                    rounded = True, \n",
                "                    filled = True)\n",
                "\n",
                "#Download the file music-recommender.dot and open it in VS Code.\n",
                ""
            ]
        }
    ]
}
